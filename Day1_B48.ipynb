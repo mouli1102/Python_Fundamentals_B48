{
 "cells": [
  {
   "cell_type": "code",
   "execution_count": 2,
   "id": "28f3e9a8",
   "metadata": {},
   "outputs": [
    {
     "name": "stdout",
     "output_type": "stream",
     "text": [
      "hello welcome to python world\n"
     ]
    }
   ],
   "source": [
    "print(\"hello everyone welcome to python world\")\n"
   ]
  },
  {
   "cell_type": "code",
   "execution_count": 3,
   "id": "6828a8a5",
   "metadata": {},
   "outputs": [
    {
     "name": "stdout",
     "output_type": "stream",
     "text": [
      "Looking forward for the upcoming sessions\n"
     ]
    }
   ],
   "source": [
    "print(\"Looking forward for the upcoming sessions\")"
   ]
  },
  {
   "cell_type": "code",
   "execution_count": null,
   "id": "8765cad7",
   "metadata": {},
   "outputs": [],
   "source": []
  }
 ],
 "metadata": {
  "kernelspec": {
   "display_name": "Python 3",
   "language": "python",
   "name": "python3"
  },
  "language_info": {
   "codemirror_mode": {
    "name": "ipython",
    "version": 3
   },
   "file_extension": ".py",
   "mimetype": "text/x-python",
   "name": "python",
   "nbconvert_exporter": "python",
   "pygments_lexer": "ipython3",
   "version": "3.8.8"
  }
 },
 "nbformat": 4,
 "nbformat_minor": 5
}
