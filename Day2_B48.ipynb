{
 "cells": [
  {
   "cell_type": "code",
   "execution_count": 3,
   "id": "bf7ee991",
   "metadata": {},
   "outputs": [],
   "source": [
    "#Variables"
   ]
  },
  {
   "cell_type": "code",
   "execution_count": 4,
   "id": "29f3c967",
   "metadata": {},
   "outputs": [
    {
     "name": "stdout",
     "output_type": "stream",
     "text": [
      "chandra mouli\n"
     ]
    }
   ],
   "source": [
    "firstname = \"chandra\"\n",
    "secondname = \"mouli\"\n",
    "print(firstname,secondname)"
   ]
  },
  {
   "cell_type": "code",
   "execution_count": 6,
   "id": "768df5ee",
   "metadata": {},
   "outputs": [],
   "source": [
    "#Wrong Variable declaration"
   ]
  },
  {
   "cell_type": "code",
   "execution_count": 7,
   "id": "6e4fe2b1",
   "metadata": {},
   "outputs": [
    {
     "ename": "SyntaxError",
     "evalue": "invalid syntax (<ipython-input-7-85ab9efdd7eb>, line 1)",
     "output_type": "error",
     "traceback": [
      "\u001b[0;36m  File \u001b[0;32m\"<ipython-input-7-85ab9efdd7eb>\"\u001b[0;36m, line \u001b[0;32m1\u001b[0m\n\u001b[0;31m    1name = \"chandra\"\u001b[0m\n\u001b[0m     ^\u001b[0m\n\u001b[0;31mSyntaxError\u001b[0m\u001b[0;31m:\u001b[0m invalid syntax\n"
     ]
    }
   ],
   "source": [
    "1name = \"chandra\"\n",
    "2name = \"mouli\"\n",
    "print(1name,2name)"
   ]
  },
  {
   "cell_type": "code",
   "execution_count": 8,
   "id": "e7736873",
   "metadata": {},
   "outputs": [
    {
     "name": "stdout",
     "output_type": "stream",
     "text": [
      "chandra mouli\n",
      "chandramouli\n"
     ]
    }
   ],
   "source": [
    "first_name = \"chandra\"\n",
    "second_name = \"mouli\"\n",
    "print(first_name,second_name)\n",
    "print(first_name+second_name) # String concatenation"
   ]
  },
  {
   "cell_type": "code",
   "execution_count": 9,
   "id": "bcbdebe2",
   "metadata": {},
   "outputs": [
    {
     "ename": "SyntaxError",
     "evalue": "invalid syntax (<ipython-input-9-e6d0a7a15af7>, line 1)",
     "output_type": "error",
     "traceback": [
      "\u001b[0;36m  File \u001b[0;32m\"<ipython-input-9-e6d0a7a15af7>\"\u001b[0;36m, line \u001b[0;32m1\u001b[0m\n\u001b[0;31m    name$ = 'mouli'\u001b[0m\n\u001b[0m        ^\u001b[0m\n\u001b[0;31mSyntaxError\u001b[0m\u001b[0;31m:\u001b[0m invalid syntax\n"
     ]
    }
   ],
   "source": [
    "name$ = 'mouli'\n",
    "print(name$)"
   ]
  },
  {
   "cell_type": "code",
   "execution_count": 10,
   "id": "e591b24e",
   "metadata": {},
   "outputs": [],
   "source": [
    "#Datatypes #Strings"
   ]
  },
  {
   "cell_type": "code",
   "execution_count": 11,
   "id": "b1e4f178",
   "metadata": {},
   "outputs": [
    {
     "name": "stdout",
     "output_type": "stream",
     "text": [
      "Mango\n"
     ]
    },
    {
     "data": {
      "text/plain": [
       "str"
      ]
     },
     "execution_count": 11,
     "metadata": {},
     "output_type": "execute_result"
    }
   ],
   "source": [
    "fruit = 'Mango'\n",
    "print(fruit)\n",
    "type(fruit)"
   ]
  },
  {
   "cell_type": "code",
   "execution_count": 13,
   "id": "e3c6feff",
   "metadata": {},
   "outputs": [
    {
     "name": "stdout",
     "output_type": "stream",
     "text": [
      "June\n"
     ]
    },
    {
     "data": {
      "text/plain": [
       "str"
      ]
     },
     "execution_count": 13,
     "metadata": {},
     "output_type": "execute_result"
    }
   ],
   "source": [
    "currentmonth = \"June\"\n",
    "print(currentmonth)\n",
    "type(currentmonth)"
   ]
  },
  {
   "cell_type": "code",
   "execution_count": 14,
   "id": "b48e97db",
   "metadata": {},
   "outputs": [
    {
     "name": "stdout",
     "output_type": "stream",
     "text": [
      "Football\n"
     ]
    },
    {
     "data": {
      "text/plain": [
       "str"
      ]
     },
     "execution_count": 14,
     "metadata": {},
     "output_type": "execute_result"
    }
   ],
   "source": [
    "favoritesport = \"\"\"Football\"\"\"\n",
    "print(favoritesport)\n",
    "type(favoritesport)"
   ]
  },
  {
   "cell_type": "code",
   "execution_count": null,
   "id": "5c3210c6",
   "metadata": {},
   "outputs": [],
   "source": []
  }
 ],
 "metadata": {
  "kernelspec": {
   "display_name": "Python 3",
   "language": "python",
   "name": "python3"
  },
  "language_info": {
   "codemirror_mode": {
    "name": "ipython",
    "version": 3
   },
   "file_extension": ".py",
   "mimetype": "text/x-python",
   "name": "python",
   "nbconvert_exporter": "python",
   "pygments_lexer": "ipython3",
   "version": "3.8.8"
  }
 },
 "nbformat": 4,
 "nbformat_minor": 5
}
